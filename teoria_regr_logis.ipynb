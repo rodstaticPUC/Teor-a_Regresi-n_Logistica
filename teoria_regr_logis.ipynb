{
 "cells": [
  {
   "cell_type": "markdown",
   "metadata": {},
   "source": [
    "# Teoría Regresión Logística (en edicion)\n",
    "\n",
    "Es un modelo de clasificación de machine learning los cuales comprende: __Regresión Logística Binaria__, __Ordenada__ y __Multinomial__. \n",
    "\n",
    "Todas comparten la sigueinte función de enlace __logit__.\n",
    "$$ log_{e}\\left ( \\frac{p}{1-p} \\right )$$\n",
    "\n",
    "donde __p__ es alguna probabilidad.\n",
    "\n",
    "Para la regresión logistica binaria y multinomial, se podría escribir las probabilidades como:\n",
    "$$ log_{e}\\left ( \\frac{P(Y=j|X)}{P(Y=M + 1|X)} \\right )$$\n",
    "para __j__ en 1,.....,__M__. \n",
    "\n",
    "Donde __M__ + 1 corresponde a los niveles discretos del ejercicio. \n",
    "\n",
    "En el caso __binario__, hay 2 niveles (__M__ = 1 y __M__=2).\n",
    "\n",
    "Sabemos muy bien que la suma de las probabilidades debe ser 1.\n",
    "\n",
    "$$ \\sum_{j=1}^{M+1}P(Y=j|X)=1$$\n",
    "\n",
    "Por tanto, la expresión __logit__ para resultados binarios se simplifica.\n",
    "$$log_{e}\\left ( \\frac{P(Y=1|X)}{1-P(Y=1|X)} \\right )$$\n",
    "\n",
    "Para la regresión logistica __ordenada__, es estandar utilizar un __logit acumulativo__, que tiene la siguiente forma:\n",
    "\n",
    "$$log_{e}\\left ( \\frac{P(Y \\leq j|X)}{1-P(Y\\leq j|X)} \\right )$$\n",
    "\n",
    "La relación de probabilidades se conoce como __ODDS__:\n",
    "$$Odds = \\left ( \\frac{P(Y =1|X)}{1-P(Y=1|X)} \\right )$$\n",
    "\n",
    "Por ejemplo, con $P(Y=1|X)=0.75$, se tiene lo siguiente:\n",
    "$$Odds = \\frac{0.75}{1-0.75} =\\frac{0.75}{0.25}= 3$$\n",
    "La interpretación sería: \"Se espera que tenga 3 veces más de probabilidades de tener el evento (__Y=1__), que no tener el evento (__Y=0__). \n",
    "\n",
    "El __logit__ es el algoritmo de las probabilidades.\n",
    "\n",
    "Los coeficientes de la regresión se basan en las probabilidades. \n",
    "\n",
    "Tomando el caso más simple; un modelo con un solo predictor $x_{1}$:\n",
    "\n",
    "$$ log_{e}\\left ( \\frac{P(Y_{i}=1|X=x_{1i})}{1-P(Y_{i}=1|X =x_{1i})} \\right )= \\beta_{0}+ \\beta_{1}*x_{1i}$$\n",
    "\n",
    "El coeficiente $\\beta_{1}$, se define: \n",
    "$$ \\beta _{1}=log_{e}\\left ( \\frac{P(Y_{i}=1|X=x_{1i}+1)}{P(Y_{i}=1|X =x_{1i})} \\right )= \\beta_{0}+ \\beta_{1}*x_{1i}$$\n",
    "\n",
    "Es una practica comun reportar las __razones de probabilidades__ en lugar de las __razones de probabilidades logaritmicas__, lo cual se logra exponenciando los coeficientes.\n",
    "\n",
    "$$ OddsRatio = OR = e ^{\\beta _{1}} $$\n",
    "\n",
    "\n",
    "Suponiendo que $\\beta_{1}$ = 0.5, entonces $e ^{0.5}$=1.65; se interpretaria como una indicación de que un cambio en un unidad en $x_{1}$, se asoció con __1.65 veces__ la probabilidad de obtener el evento.\n",
    "\n",
    "A diferencia de las probabilidades (que tienen una interpretacion bastante natural), los coeficientes de probabilidades son un poco más dificiles de interpretar, ya que representan un __cambio multiplicativo en las probabilidades__, pero no indican cuales eran las probabilidades.\n",
    "\n",
    "A continuación se observa un grafico con datos de una variable binaria."
   ]
  },
  {
   "cell_type": "code",
   "execution_count": 49,
   "metadata": {},
   "outputs": [
    {
     "data": {
      "image/png": "[encoded data removed]",
      "text/plain": [
       "<Figure size 720x504 with 1 Axes>"
      ]
     },
     "metadata": {
      "needs_background": "light"
     },
     "output_type": "display_data"
    }
   ],
   "source": [
    "import matplotlib.pyplot as plt\n",
    "from sklearn.datasets import make_blobs\n",
    "\n",
    "# ! Definición de variables\n",
    "X,y = make_blobs(n_samples=100,n_features=2,centers=2,random_state=10)\n",
    "\n",
    "# Dimensión del grafico\n",
    "plt.figure(figsize=(10,7))\n",
    "for target, color, maker in zip(range(2),['red','blue'],['o','^']):\n",
    " plt.scatter(X[y== target,0],X[y==target,1],c=color,marker=maker,label='clase'+format(target))\n",
    "\n",
    "plt.xlabel('Clase 1 (x1)', fontsize=15); plt.ylabel('Clase 2 (x2)',fontsize=15)\n",
    "plt.grid()\n",
    "plt.show()"
   ]
  },
  {
   "cell_type": "markdown",
   "metadata": {},
   "source": [
    "Mientras en la regresión lineal predice los valores __y__, usando el modelo de regrsión, en regresión logística proporciona una etiqueta de clase.\n",
    "En referencia al gráfico, la clasificación binaria debe devolver clase 1 (puntos rojos) o clase 2 (triangulos azules).\n",
    "Para convertir los valores __y__ lineales a binarios, la regresión logística usa alguna función __tipo sigmoidal__.\n",
    "\n",
    "## Función sigmoidal\n",
    "\n",
    "Muchos procesos naturales muestran una progresión temporal desde niveles bajos al inicio hasta acercarse a un punto máximo en un cierto tiempo dado; esta transición se produce en una región caracterizada por una fuerte acelaración intermedia. \n",
    "\n",
    "La función __sigmoide__ permite describir esta evolución.\n",
    "\n",
    "__Formula__\n",
    "$$P(t)=\\frac{1}{1+e^{-t}}$$\n",
    "\n",
    "En muchas aplicaciones, la velocidad de cambio de una variable es proporcional al valor de __y__. Cuando __y__ es una función del tiempo.\n",
    "\n",
    "__Representación Gráfica de la función Sigmoide__"
   ]
  },
  {
   "cell_type": "code",
   "execution_count": 48,
   "metadata": {},
   "outputs": [
    {
     "data": {
      "image/png": "[encoded data removed]",
      "text/plain": [
       "<Figure size 576x288 with 1 Axes>"
      ]
     },
     "metadata": {
      "needs_background": "light"
     },
     "output_type": "display_data"
    }
   ],
   "source": [
    "import matplotlib.pyplot as plt\n",
    "import numpy as np\n",
    "\n",
    "# Definción de la función\n",
    "def sigmoid(t):\n",
    "    return 1/(1+np.exp(-t))\n",
    "\n",
    "# Definición de variable\n",
    "t = np.arange(-10,10,0.5)\n",
    "y = sigmoid(t)\n",
    "plt.figure(figsize=(8,4))\n",
    "plt.plot(t,y); plt.grid();plt.title(\"Función Sigmoide\") \n",
    "plt.show()"
   ]
  },
  {
   "cell_type": "markdown",
   "metadata": {},
   "source": [
    "_Ejemplo_:\n",
    "Un cultivo de bacterias está creciendo de acuerdo a la __función de crecimiento logístico__: $$y=\\frac{1.25}{1+0.25e^{-0.4t}}$$, con $t\\geq 0$.\n",
    "\n",
    "Donde __y__ es el peso del cultivo en gramos y __t__ es el tiempo en horas.\n",
    "Encuentre el peso del cultivo despues de:\n",
    "-  1 hora\n",
    "-  10 horas\n",
    "\n",
    "Reemplazando en la formula se obtiene que el peso despues de 1 hora en el cultivo es de aproximadamente 1.071 gramos y en 10 horas 1.244 gramos."
   ]
  },
  {
   "cell_type": "code",
   "execution_count": 41,
   "metadata": {},
   "outputs": [
    {
     "data": {
      "text/plain": [
       "1.0705904414932348"
      ]
     },
     "execution_count": 41,
     "metadata": {},
     "output_type": "execute_result"
    }
   ],
   "source": [
    "import matplotlib.pyplot as plt\n",
    "import numpy as np\n",
    "\n",
    "# ! Definición de función sigmoidal\n",
    "def sigmoid(x):\n",
    "    return 1.25/(1+0.25*np.exp(-0.4*x))\n",
    "\n",
    "sigmoid(1)\n",
    "# sigmoid(10)"
   ]
  }
 ],
 "metadata": {
  "interpreter": {
   "hash": "dab5f78c899121fc520d90b9351b3b5e2033dcf7810edf78f8fb14343cfb7042"
  },
  "kernelspec": {
   "display_name": "Python 3 (ipykernel)",
   "language": "python",
   "name": "python3"
  },
  "language_info": {
   "codemirror_mode": {
    "name": "ipython",
    "version": 3
   },
   "file_extension": ".py",
   "mimetype": "text/x-python",
   "name": "python",
   "nbconvert_exporter": "python",
   "pygments_lexer": "ipython3",
   "version": "3.9.7"
  }
 },
 "nbformat": 4,
 "nbformat_minor": 4
}
