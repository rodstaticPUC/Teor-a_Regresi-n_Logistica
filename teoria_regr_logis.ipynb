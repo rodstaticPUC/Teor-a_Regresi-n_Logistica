{
 "cells": [
  {
   "cell_type": "markdown",
   "metadata": {},
   "source": [
    "# Teoría Regresión Logística\n",
    "\n",
    "Es un modelo de clasificación de machine learning los cuales son: __Regresión Logística Binaria__, __Ordenada__ y __Multinomial__. Todas comparten la función de enlace __logit__.\n",
    "$$ log_{e}\\left ( \\frac{p}{1-p} \\right )$$\n",
    "\n",
    "donde __p__ es alguna probabilidad.\n",
    "Para la regresión logistica binaria y multinomial, se podría escribir las probabilidades como:\n",
    "$$ log_{e}\\left ( \\frac{P(Y=j|X)}{P(Y=M + 1|X)} \\right )$$\n",
    "para __j__ en 1,.....,__M__. Donde __M__ + 1 niveles discretos del ejercicio. En el caso __binario__, hay 2 niveles (__M__ = 1 y __M__=2); ya que sabemos que la suma de las probabilidades debe ser 1.\n",
    "\n",
    "$$ \\sum_{j=1}^{M+1}P(Y=j|X)=1$$\n",
    "\n",
    "Por tanto, la expresión __logit__ para resultados binarios se simplifica.\n",
    "$$log_{e}\\left ( \\frac{P(Y=1|X)}{1-P(Y=1|X)} \\right )$$\n",
    "\n",
    "Para la regresión logistica __ordenada__, es estandar utilizar un __logit acumulativo__, que tiene la siguiente forma:\n",
    "\n",
    "$$log_{e}\\left ( \\frac{P(Y \\leq j|X)}{1-P(Y\\leq j|X)} \\right )$$\n",
    "\n",
    "La relación de probabilidades se conoce como __ODDS__:\n",
    "$$Odds = \\left ( \\frac{P(Y =1|X)}{1-P(Y=1|X)} \\right )$$\n",
    "\n",
    "Por ejemplo, con $P(Y=1|X)=0.75$, se tiene lo siguiente:\n",
    "$$Odds = \\frac{0.75}{1-0.75} =\\frac{0.75}{0.25}= 3$$\n",
    "La interpretación sería: \"Se espera que tenga 3 veces más de probabilidades de tener el evento (__Y=1__), que no tener el evento (__Y=0__)."
   ]
  }
 ],
 "metadata": {
  "language_info": {
   "name": "python"
  },
  "orig_nbformat": 4
 },
 "nbformat": 4,
 "nbformat_minor": 2
}
