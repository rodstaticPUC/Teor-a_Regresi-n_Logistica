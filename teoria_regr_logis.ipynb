{
 "cells": [
  {
   "cell_type": "markdown",
   "metadata": {},
   "source": [
    "# Teoría Regresión Logística\n",
    "\n",
    "Es un modelo de clasificación de machine learning los cuales son: __Regresión Logística Binaria__, __Ordenada__ y __Multinomial__. Todas comparten la función de enlace __logit__.\n",
    "$$ log_{e}\\left ( \\frac{p}{1-p} \\right )$$\n",
    "\n",
    "donde __p__ es alguna probabilidad.\n"
   ]
  }
 ],
 "metadata": {
  "language_info": {
   "name": "python"
  },
  "orig_nbformat": 4
 },
 "nbformat": 4,
 "nbformat_minor": 2
}
